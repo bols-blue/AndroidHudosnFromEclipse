{
  "nbformat": 4,
  "nbformat_minor": 0,
  "metadata": {
    "colab": {
      "provenance": [],
      "machine_shape": "hm",
      "gpuType": "A100",
      "authorship_tag": "ABX9TyPdCUrwaa0cMOfK2011mvo3",
      "include_colab_link": true
    },
    "kernelspec": {
      "name": "python3",
      "display_name": "Python 3"
    },
    "language_info": {
      "name": "python"
    },
    "accelerator": "GPU"
  },
  "cells": [
    {
      "cell_type": "markdown",
      "metadata": {
        "id": "view-in-github",
        "colab_type": "text"
      },
      "source": [
        "<a href=\"https://colab.research.google.com/github/bols-blue/AndroidHudosnFromEclipse/blob/master/wisper_auto_transcription.ipynb\" target=\"_parent\"><img src=\"https://colab.research.google.com/assets/colab-badge.svg\" alt=\"Open In Colab\"/></a>"
      ]
    },
    {
      "cell_type": "code",
      "source": [],
      "metadata": {
        "id": "prZBLOXsaleR"
      },
      "execution_count": null,
      "outputs": []
    },
    {
      "cell_type": "markdown",
      "source": [
        "とりあえずこれ"
      ],
      "metadata": {
        "id": "ZVVf5nNG4N_-"
      }
    },
    {
      "cell_type": "code",
      "execution_count": null,
      "metadata": {
        "id": "rmXxxQ-manoj"
      },
      "outputs": [],
      "source": [
        "! apt-get install -y librosa-dev chex\n",
        "!python -V\n",
        "!pip install git+https://github.com/openai/whisper.git\n",
        "\n",
        "!pip uninstall -y numpy\n",
        "!pip uninstall -y numba\n",
        "!pip install numba\n"
      ]
    },
    {
      "cell_type": "code",
      "source": [
        "from google.colab import drive\n",
        "drive.mount('/content/drive')"
      ],
      "metadata": {
        "id": "Z5_flVeAIjCe",
        "colab": {
          "base_uri": "https://localhost:8080/"
        },
        "outputId": "99d05e44-d2cb-4be1-e1e7-21a5f962bcfe"
      },
      "execution_count": 2,
      "outputs": [
        {
          "output_type": "stream",
          "name": "stdout",
          "text": [
            "Mounted at /content/drive\n"
          ]
        }
      ]
    },
    {
      "cell_type": "code",
      "source": [
        "!ls \"/content/drive/MyDrive/Meet Recordings\""
      ],
      "metadata": {
        "id": "sxSd54WTUAct"
      },
      "execution_count": null,
      "outputs": []
    },
    {
      "cell_type": "markdown",
      "source": [
        "エラーが出る場合該当部分を削除する。"
      ],
      "metadata": {
        "id": "oywcqskoptrt"
      }
    },
    {
      "cell_type": "code",
      "source": [
        "import whisper\n",
        "import os\n",
        "import mimetypes\n",
        "\n",
        "files = os.listdir(path='/content/drive/MyDrive/Meet Recordings')\n",
        "\n",
        "lang = \"ja\"\n",
        "model = whisper.load_model(\"large\")\n",
        "\n",
        "def convert_txt(file_path, mock=False):\n",
        "  basename = os.path.basename(file_path)\n",
        "  dirname = '/content/drive/MyDrive/Meet Recordings'\n",
        "  print(file_path)\n",
        "  if mock == True:\n",
        "    return\n",
        "  # Load audio\n",
        "  audio = whisper.load_audio(f\"{dirname}/{basename}\")\n",
        "\n",
        "  result = model.transcribe(audio, verbose=True, language=lang)\n",
        "  # Write into a text file\n",
        "  with open(f\"{dirname}/{basename}.txt\", \"w\") as f:\n",
        "    f.write(f\"▼ Transcription of {basename}\\n\")\n",
        "    f.write(result[\"text\"])\n",
        "\n",
        "\n",
        "for name in files:\n",
        "  file_type = mimetypes.guess_type(name)\n",
        "  print(file_type)\n",
        "  if file_type[0] == 'video/mp4':\n",
        "    # convert_txt(name, mock=True)\n",
        "    convert_txt(name)\n",
        "\n",
        "\n",
        "\n"
      ],
      "metadata": {
        "id": "zJugrN2IQl1O"
      },
      "execution_count": null,
      "outputs": []
    }
  ]
}